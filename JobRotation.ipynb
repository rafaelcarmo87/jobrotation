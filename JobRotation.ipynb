{
  "nbformat": 4,
  "nbformat_minor": 0,
  "metadata": {
    "colab": {
      "provenance": []
    },
    "kernelspec": {
      "name": "python3",
      "display_name": "Python 3"
    },
    "language_info": {
      "name": "python"
    }
  },
  "cells": [
    {
      "cell_type": "code",
      "source": [
        "# SOMA DE VARIÁVEL\n",
        "\n",
        "INDICE = 13\n",
        "SOMA = 0\n",
        "K = 0\n",
        "\n",
        "while K < INDICE:\n",
        "    K = K + 1\n",
        "    SOMA = SOMA + K\n",
        "\n",
        "print(SOMA)"
      ],
      "metadata": {
        "colab": {
          "base_uri": "https://localhost:8080/"
        },
        "id": "PTw-BD-ur00v",
        "outputId": "cbf148b4-4da1-4b69-8957-304359615cab"
      },
      "execution_count": 12,
      "outputs": [
        {
          "output_type": "stream",
          "name": "stdout",
          "text": [
            "91\n"
          ]
        }
      ]
    },
    {
      "cell_type": "code",
      "source": [
        "# CALCULADORA DE FIBONACCI\n",
        "\n",
        "num = int(input(\"Digite um número: \"))\n",
        "\n",
        "# Inicializa as variáveis para a sequência de Fibonacci\n",
        "anterior = 0\n",
        "atual = 1\n",
        "proximo = 1\n",
        "\n",
        "# Percorre a sequência de Fibonacci até encontrar um número maior ou igual ao número digitado pelo usuário\n",
        "while proximo < num:\n",
        "    anterior = atual\n",
        "    atual = proximo\n",
        "    proximo = anterior + atual\n",
        "\n",
        "# Verifica se o número digitado pelo usuário pertence à sequência de Fibonacci\n",
        "if proximo == num:\n",
        "    print(num, \"pertence à sequência de Fibonacci.\")\n",
        "else:\n",
        "    print(num, \"não pertence à sequência de Fibonacci.\")"
      ],
      "metadata": {
        "colab": {
          "base_uri": "https://localhost:8080/"
        },
        "id": "FKPoazUMkyOC",
        "outputId": "b2ff53c3-b0cb-4899-8c94-041d3035074f"
      },
      "execution_count": 8,
      "outputs": [
        {
          "output_type": "stream",
          "name": "stdout",
          "text": [
            "Digite um número: 6\n",
            "6 não pertence à sequência de Fibonacci.\n"
          ]
        }
      ]
    },
    {
      "cell_type": "code",
      "source": [
        "# Sequência a\n",
        "seq_a = [1, 3, 5, 7]\n",
        "proximo_a = seq_a[-1] + 2\n",
        "print(f\"Sequência a: {seq_a}\")\n",
        "print(f\"Próximo elemento em a: {proximo_a}\\n\")\n",
        "\n",
        "# Sequência b\n",
        "seq_b = [2, 4, 8, 16, 32, 64]\n",
        "proximo_b = seq_b[-1] * 2\n",
        "print(f\"Sequência b: {seq_b}\")\n",
        "print(f\"Próximo elemento em b: {proximo_b}\\n\")\n",
        "\n",
        "# Sequência c\n",
        "seq_c = [0, 1, 4, 9, 16, 25, 36]\n",
        "proximo_c = (len(seq_c)) ** 2\n",
        "print(f\"Sequência c: {seq_c}\")\n",
        "print(f\"Próximo elemento em c: {proximo_c}\\n\")\n",
        "\n",
        "# Sequência d\n",
        "seq_d = [4, 16, 36, 64]\n",
        "proximo_d = seq_d[-1] + 4\n",
        "print(f\"Sequência d: {seq_d}\")\n",
        "print(f\"Próximo elemento em d: {proximo_d}\\n\")\n",
        "\n",
        "# Sequência e\n",
        "seq_e = [1, 1, 2, 3, 5, 8]\n",
        "proximo_e = seq_e[-1] + seq_e[-2]\n",
        "print(f\"Sequência e: {seq_e}\")\n",
        "print(f\"Próximo elemento em e: {proximo_e}\\n\")\n",
        "\n",
        "# Sequência f\n",
        "seq_f = [2, 10, 12, 16, 17, 18, 19]\n",
        "proximo_f = [seq_f[0]+2, seq_f[1]+2, seq_f[2]+4, seq_f[3]+1, seq_f[4]+1, seq_f[5]+1, seq_f[6]+1]\n",
        "proximo_f = proximo_f[-1]\n",
        "print(f\"Sequência f: {seq_f}\")\n",
        "print(f\"Próximo elemento em f: {proximo_f}\\n\")\n"
      ],
      "metadata": {
        "colab": {
          "base_uri": "https://localhost:8080/"
        },
        "id": "2_PIuvmLoHVS",
        "outputId": "bf4dbab2-80d6-448b-fe6d-ba3061de26d1"
      },
      "execution_count": 9,
      "outputs": [
        {
          "output_type": "stream",
          "name": "stdout",
          "text": [
            "Sequência a: [1, 3, 5, 7]\n",
            "Próximo elemento em a: 9\n",
            "\n",
            "Sequência b: [2, 4, 8, 16, 32, 64]\n",
            "Próximo elemento em b: 128\n",
            "\n",
            "Sequência c: [0, 1, 4, 9, 16, 25, 36]\n",
            "Próximo elemento em c: 49\n",
            "\n",
            "Sequência d: [4, 16, 36, 64]\n",
            "Próximo elemento em d: 68\n",
            "\n",
            "Sequência e: [1, 1, 2, 3, 5, 8]\n",
            "Próximo elemento em e: 13\n",
            "\n",
            "Sequência f: [2, 10, 12, 16, 17, 18, 19]\n",
            "Próximo elemento em f: 20\n",
            "\n"
          ]
        }
      ]
    },
    {
      "cell_type": "code",
      "source": [
        "# Distância entre as cidades em km\n",
        "distancia = 100\n",
        "\n",
        "# Velocidade do carro em km/h\n",
        "velocidade_carro = 110\n",
        "\n",
        "# Velocidade do caminhão em km/h\n",
        "velocidade_caminhao = 80\n",
        "\n",
        "# Tempo levado para se encontrarem em horas\n",
        "tempo = distancia / (velocidade_carro + velocidade_caminhao)\n",
        "\n",
        "# Distância percorrida pelo carro em km\n",
        "distancia_carro = velocidade_carro * tempo\n",
        "\n",
        "# Distância percorrida pelo caminhão em km\n",
        "distancia_caminhao = velocidade_caminhao * tempo + 2 * 0.0833\n",
        "\n",
        "if distancia_carro < distancia_caminhao:\n",
        "    print(\"O carro estará mais próximo de Ribeirão Preto.\")\n",
        "else:\n",
        "    print(\"O caminhão estará mais próximo de Ribeirão Preto.\")\n",
        "\n",
        "\n",
        "# fórmula de distância igual a velocidade multiplicada pelo tempo (d = v * t). \n",
        "# Como os dois veículos estão em movimento, a distância que percorremos é igual ao comprimento da estrada, que é de 100 km."
      ],
      "metadata": {
        "colab": {
          "base_uri": "https://localhost:8080/"
        },
        "id": "-MmuZhoIpZEN",
        "outputId": "1224bf27-fb41-4eab-cd0f-26cc4a156a66"
      },
      "execution_count": 10,
      "outputs": [
        {
          "output_type": "stream",
          "name": "stdout",
          "text": [
            "O caminhão estará mais próximo de Ribeirão Preto.\n"
          ]
        }
      ]
    },
    {
      "cell_type": "code",
      "source": [
        "# INVERSOR DE PALAVRAS\n",
        "\n",
        "palavra = input(\"Digite uma palavra: \")\n",
        "\n",
        "palavra_invertida = palavra[::-1]\n",
        "\n",
        "print(\"Palavra invertida: \", palavra_invertida)"
      ],
      "metadata": {
        "colab": {
          "base_uri": "https://localhost:8080/"
        },
        "id": "t2DpY20QqnlI",
        "outputId": "91e69c82-496c-4f91-ad56-e84d592ba79d"
      },
      "execution_count": 11,
      "outputs": [
        {
          "output_type": "stream",
          "name": "stdout",
          "text": [
            "Digite uma palavra: feliz\n",
            "Palavra invertida:  zilef\n"
          ]
        }
      ]
    }
  ]
}